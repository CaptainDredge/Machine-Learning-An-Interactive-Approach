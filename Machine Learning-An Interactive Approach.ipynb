{
 "cells": [
  {
   "cell_type": "markdown",
   "metadata": {},
   "source": [
    "#  Magical Machine Learning - An Interactive approach"
   ]
  },
  {
   "cell_type": "markdown",
   "metadata": {},
   "source": [
    "### If you don't know what is Machine Learning. Here's a very brief inroduction for you from Google :)\n",
    "https://www.youtube.com/watch?v=nKW8Ndu7Mjw"
   ]
  },
  {
   "cell_type": "markdown",
   "metadata": {},
   "source": [
    "### We'll try to generate our own random data with two classes say 'Beer' or 'Wine' and two features say 'Alcohol' and 'Color Intensity'. Then we'll try train our Machine learning model on this data for predicting the class on unseen test data"
   ]
  },
  {
   "cell_type": "markdown",
   "metadata": {},
   "source": [
    "##### First Let's Import necessary libraries"
   ]
  },
  {
   "cell_type": "code",
   "execution_count": 1,
   "metadata": {},
   "outputs": [
    {
     "name": "stdout",
     "output_type": "stream",
     "text": [
      "Automatically created module for IPython interactive environment\n"
     ]
    }
   ],
   "source": [
    "from ipywidgets import interact, interactive, IntSlider, Layout\n",
    "import ipywidgets as widgets\n",
    "from IPython.display import display\n",
    "\n",
    "print(__doc__)\n",
    "\n",
    "\n",
    "import numpy as np\n",
    "import pandas as pd\n",
    "from matplotlib.colors import ListedColormap\n",
    "\n",
    "from sklearn.model_selection import train_test_split\n",
    "from sklearn.svm import SVC\n",
    "from sklearn.linear_model.logistic import LogisticRegressionCV"
   ]
  },
  {
   "cell_type": "markdown",
   "metadata": {
    "collapsed": true
   },
   "source": [
    "## Classficiation using Logistic Regression and SVM"
   ]
  },
  {
   "cell_type": "markdown",
   "metadata": {},
   "source": [
    "### Function definition generating data points with noise and classifying"
   ]
  },
  {
   "cell_type": "markdown",
   "metadata": {},
   "source": [
    "#### Let us First define some esssential function. \n",
    "#### Note: You need not pay heed to the code as its just a syntatic sugar and will be explained in the workshop"
   ]
  },
  {
   "cell_type": "code",
   "execution_count": 2,
   "metadata": {},
   "outputs": [],
   "source": [
    "def store(change=None):\n",
    "    x1 = scatter_plot.x\n",
    "    x2 = scatter_plot.y\n",
    "    xl,yl,ynl,x1l,x2l = pl.result\n",
    "    dic = {'X1':x1,'X2':x2,'out':ynl}\n",
    "    store.df = pd.DataFrame(data=dic)\n",
    "    store.df['y']=store.df['out'].apply(lambda x:int(x>0))\n",
    "    print('Updated')"
   ]
  },
  {
   "cell_type": "code",
   "execution_count": 7,
   "metadata": {},
   "outputs": [],
   "source": [
    "from bqplot import pyplot as plt\n",
    "from bqplot import *\n",
    "def func_log(N_samples,x_min,x_max,noise_magnitude,noise_sd,noise_mean):\n",
    "    \n",
    "    \"\"\"\n",
    "    ================================\n",
    "            DATA GENERATION\n",
    "    ================================\n",
    "\n",
    "    Input:  Number of Samples, minimum value, maximum value,\n",
    "            noise magnitude, noise standard deviation, noise mean\n",
    "    Output: Data comprising x range, y range, target , feature_1, feature_2\n",
    "    \"\"\"\n",
    "    \n",
    "    x= np.linspace(x_min,x_max,N_samples*5)\n",
    "    x1= np.random.choice(x,size=N_samples)\n",
    "    x2= np.random.choice(x,size=N_samples)\n",
    "    y=1.5*x1-2*x2\n",
    "    yn= y+noise_magnitude*np.random.normal(loc=noise_mean,scale=noise_sd,size=N_samples)\n",
    "    \n",
    "    plt.figure(figsize=(20,10), title=\"Data\", fig_margin=dict(top=50, bottom=70, left=120, right=120) )\n",
    "    c = ['negative class' if i < 0 else 'positive class' for i in y]\n",
    "\n",
    "    plt.scales(scales={'color': OrdinalColorScale(colors=['DodgerBlue','OrangeRed'])})\n",
    "    axes_options = {'x': dict(label='feature_1', label_location='end'),\n",
    "                'y': dict(label='feature_2'),\n",
    "                'color': dict(label='Class', side='right')\n",
    "               }\n",
    "    global scatter_plot\n",
    "    scatter_plot = plt.scatter(x1,x2, color = c,\n",
    "                stroke='black',\n",
    "                axes_options=axes_options)\n",
    "    plt.show()\n",
    "    scatter_plot.enable_move = True\n",
    "    scatter_plot.observe(store, 'y')\n",
    "    return (np.array(x),np.array(y),np.array(yn),np.array(x1),np.array(x2))"
   ]
  },
  {
   "cell_type": "code",
   "execution_count": 8,
   "metadata": {},
   "outputs": [],
   "source": [
    "def plot_data(change=0):\n",
    "    global pl\n",
    "    pl=interactive(func_log,N_samples={'Low (50 samples)':50,'Medium (100 samples)':100,'High (200 samples)':200},x_min=(-10,0,1), x_max=(0,10,1),\n",
    "                  noise_magnitude=(0,5,1),noise_sd=(0.1,1,0.1),noise_mean=(-2,2,0.5))\n",
    "    display(pl)"
   ]
  },
  {
   "cell_type": "markdown",
   "metadata": {},
   "source": [
    "### Plot and interactively control the data points by calling the plot_data function"
   ]
  },
  {
   "cell_type": "markdown",
   "metadata": {},
   "source": [
    "##### Execute the following cell (Shift + Enter) and play with the scroll bars. "
   ]
  },
  {
   "cell_type": "code",
   "execution_count": 9,
   "metadata": {},
   "outputs": [
    {
     "data": {
      "application/vnd.jupyter.widget-view+json": {
       "model_id": "ddbfe637de86413a81f4286e399aec3d",
       "version_major": 2,
       "version_minor": 0
      },
      "text/plain": [
       "interactive(children=(Dropdown(description='N_samples', options={'Low (50 samples)': 50, 'Medium (100 samples)…"
      ]
     },
     "metadata": {},
     "output_type": "display_data"
    }
   ],
   "source": [
    "plot_data()"
   ]
  },
  {
   "cell_type": "markdown",
   "metadata": {},
   "source": [
    "### Store the generated data"
   ]
  },
  {
   "cell_type": "code",
   "execution_count": 10,
   "metadata": {},
   "outputs": [],
   "source": [
    "try:\n",
    "    data = store.df.copy()\n",
    "except AttributeError as e:\n",
    "    xl,yl,ynl,x1l,x2l = pl.result\n",
    "    dic = {'X1':x1l,'X2':x2l,'out':ynl}\n",
    "    data = pd.DataFrame(data=dic)\n",
    "    data['y']=data['out'].apply(lambda x: int(x>0))"
   ]
  },
  {
   "cell_type": "markdown",
   "metadata": {},
   "source": [
    "### Logistic regression  and SVM encapsulated within a function"
   ]
  },
  {
   "cell_type": "code",
   "execution_count": 11,
   "metadata": {},
   "outputs": [],
   "source": [
    "import matplotlib.pyplot as plt\n",
    "def log_fit(Model,C,test_size,penalty):\n",
    "    \"\"\"\n",
    "    ================================\n",
    "            MODEL FITTING\n",
    "    ================================\n",
    "\n",
    "    Input:  Model(String), regularization param, test/train ratio,\n",
    "            L1/L2 Penalty\n",
    "    Output: Train score, Test score\n",
    "    \"\"\"\n",
    "    \n",
    "    X_train, X_test, y_train, y_test = train_test_split(data[['X1','X2']],data['y'],test_size=test_size,random_state=101)\n",
    "    \n",
    "    df_test=pd.DataFrame(X_test,columns=['X1','X2'])\n",
    "    df_test['y']=y_test\n",
    "    \n",
    "    df_train=pd.DataFrame(X_train,columns=['X1','X2'])\n",
    "    df_train['y']=y_train\n",
    "    if Model == 'Logistic':\n",
    "        if (penalty=='L1 norm'):\n",
    "            logm = LogisticRegressionCV(Cs=[np.power(10,-C)],penalty='l1',solver='saga')\n",
    "        if (penalty=='L2 norm'):\n",
    "            logm = LogisticRegressionCV(Cs=[np.power(10,-C)],penalty='l2',solver='lbfgs')\n",
    "    else:\n",
    "        logm = SVC(kernel=\"linear\", C=np.power(10,-C), probability=True)\n",
    "    \n",
    "    logm.fit(X_train,y_train)\n",
    "    \n",
    "    train_score = logm.score(X_train,y_train)\n",
    "    test_score = logm.score(X_test,y_test)\n",
    "    \n",
    "    xx, yy = np.mgrid[-10:10:.01, -10:10:.01]\n",
    "    grid = np.c_[xx.ravel(), yy.ravel()]\n",
    "    probs = logm.predict_proba(grid)[:, 1].reshape(xx.shape)\n",
    "        \n",
    "    c_test = [i for i in df_test['y']]\n",
    "    c_train = [i for i in df_train['y']]\n",
    "    \n",
    "    f, ax = plt.subplots(nrows=1,ncols=2,figsize=(16,8))\n",
    "    contour = ax[0].contourf(xx, yy, probs, 25, cmap=\"RdBu\",vmin=0, vmax=1)\n",
    "    ax1_c = f.colorbar(contour)\n",
    "    ax1_c.set_label(\"$Prob\\ (y = 1)$\",fontsize=15)\n",
    "    ax1_c.set_ticks([0, .25, .5, .75, 1])\n",
    "    ax[0].set_xlabel(\"$X_1$\",fontsize=15)\n",
    "    ax[0].set_ylabel(\"$X_2$\",fontsize=15)\n",
    "    ax[0].contour(xx, yy, probs, levels=[.5], cmap=\"Greys\", vmin=0, vmax=0.6,lw=3)\n",
    "    \n",
    "    ax[0].scatter(df_test['X1'],df_test['X2'],c=c_test,edgecolors='k',s=100)\n",
    "    ax[0].set_title(\"\\nTest score: %.3f\\n\"%(test_score),fontsize=20)\n",
    "    \n",
    "    contour = ax[1].contourf(xx, yy, probs, 25, cmap=\"RdBu\",vmin=0, vmax=1)\n",
    "\n",
    "    ax[1].set_xlabel(\"$X_1$\",fontsize=15)\n",
    "    ax[1].set_ylabel(\"$X_2$\",fontsize=15)\n",
    "    ax[1].contour(xx, yy, probs, levels=[.5], cmap=\"Greys\", vmin=0, vmax=0.6,lw=3)\n",
    "    \n",
    "    ax[1].scatter(df_train['X1'],df_train['X2'],c=c_train,edgecolors='k',s=100)\n",
    "    ax[1].set_title(\"\\nTraining score: %.3f\\n\"%(train_score),fontsize=20)\n",
    "        \n",
    "    plt.grid(True)\n",
    "    plt.tight_layout()\n",
    "    plt.show()\n",
    "      \n",
    "    return (train_score,test_score)    "
   ]
  },
  {
   "cell_type": "markdown",
   "metadata": {},
   "source": [
    "### Run the encapsulated ML function with ipywidget interactive\n",
    "#### Simply execute the following cell (Shift +Enter) and play with the scroll bars."
   ]
  },
  {
   "cell_type": "code",
   "execution_count": 12,
   "metadata": {
    "scrolled": false
   },
   "outputs": [
    {
     "data": {
      "application/vnd.jupyter.widget-view+json": {
       "model_id": "99023bb23e7d433aa2663b2bb6e47cd6",
       "version_major": 2,
       "version_minor": 0
      },
      "text/plain": [
       "Label(value='Play with options and watch the probability space evolve dynamically. Remember, smaller the value…"
      ]
     },
     "metadata": {},
     "output_type": "display_data"
    },
    {
     "data": {
      "application/vnd.jupyter.widget-view+json": {
       "model_id": "61e1456814b94e3285a46e43e6290cfb",
       "version_major": 2,
       "version_minor": 0
      },
      "text/plain": [
       "interactive(children=(Dropdown(description='Model', options=('Logistic', 'SVM'), value='Logistic'), FloatSlide…"
      ]
     },
     "metadata": {},
     "output_type": "display_data"
    }
   ],
   "source": [
    "from ipywidgets import HBox, Label, FloatSlider\n",
    "\n",
    "style = {'description_width': 'initial'}\n",
    "\n",
    "lb1=Label (value=\"Play with options and watch the probability space evolve dynamically. \\\n",
    "Remember, smaller the value of $C$, stronger the regularization strength\",fontsize=15)\n",
    "\n",
    "logp=interactive(log_fit,Model = {'Logistic','SVM'},C=FloatSlider(value=0,min=0,max=2,step=0.1,\n",
    "                                       description='Regularization ($10^{-C}$), $C$', style=style,continuous_update=False),\n",
    "                 test_size=FloatSlider(value=0.1,min=0.1,max=0.5,step=0.1,\n",
    "                                       description = 'Test fraction ($X_{test}$)', style=style),\n",
    "                penalty=widgets.RadioButtons(options=[\"L1 norm\",\"L2 norm\"], description = 'Penalty norm'))\n",
    "\n",
    "# Set the height of the control.children[-1] so that the output does not jump and flicker\n",
    "output = logp.children[-1]\n",
    "output.layout.height = '700px'\n",
    "output.layout.width = '1020px'\n",
    "\n",
    "display(lb1)\n",
    "display(logp)"
   ]
  }
 ],
 "metadata": {
  "kernelspec": {
   "display_name": "Python 3",
   "language": "python",
   "name": "python3"
  },
  "language_info": {
   "codemirror_mode": {
    "name": "ipython",
    "version": 3
   },
   "file_extension": ".py",
   "mimetype": "text/x-python",
   "name": "python",
   "nbconvert_exporter": "python",
   "pygments_lexer": "ipython3",
   "version": "3.6.6"
  }
 },
 "nbformat": 4,
 "nbformat_minor": 2
}
